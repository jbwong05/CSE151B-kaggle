{
 "cells": [
  {
   "cell_type": "code",
   "execution_count": 7,
   "metadata": {},
   "outputs": [],
   "source": [
    "#data_path = \"/Users/roseyu/Google Drive/UCSD/CSE151B/val/split_test/\"\n",
    "data_path = \"/home/jow003/new_train/new_train\"\n",
    "#new_path = \"/Users/roseyu/Google Drive/UCSD/CSE151B/new_val/\"\n",
    "new_path = \"/home/jow003/new_train/new_train\"\n",
    "\n",
    "# train:205942  val:3200 test: 36272 10HZ data\n",
    "import numpy \n",
    "import pickle"
   ]
  },
  {
   "cell_type": "code",
   "execution_count": 8,
   "metadata": {},
   "outputs": [],
   "source": [
    "import torch\n",
    "from torch.utils.data import Dataset, DataLoader\n",
    "import os, os.path \n",
    "from glob import glob\n",
    "\n",
    "class ArgoverseDataset(Dataset):\n",
    "    def __init__(self, data_path: str, transform=None):\n",
    "        super(ArgoverseDataset, self).__init__()\n",
    "        self.data_path = data_path\n",
    "        self.transform = transform\n",
    "\n",
    "        self.pkl_list = glob(os.path.join(self.data_path, '*'))\n",
    "        self.pkl_list.sort()\n",
    "        \n",
    "    def __len__(self):\n",
    "        return len(self.pkl_list)\n",
    "\n",
    "    def __getitem__(self, idx):\n",
    "\n",
    "        pkl_path = self.pkl_list[idx]\n",
    "        with open(pkl_path, 'rb') as f:\n",
    "            data = pickle.load(f)\n",
    "#         data = {k:v[0] for k, v in data.items()} the new format does not have this\n",
    "        \n",
    "        if self.transform:\n",
    "            data = self.transform(data)\n",
    "\n",
    "        return data\n",
    "\n",
    "\n",
    "\n",
    "val_dataset  = ArgoverseDataset(data_path=new_path)\n",
    "# def read_pkl_data(data_path: str, batch_size: int, \n",
    "#                   shuffle: bool=False, repeat: bool=False, **kwargs):\n",
    "#     df = ArgoversePklLoader(data_path=data_path, shuffle=shuffle, **kwargs)\n",
    "#     if repeat:\n",
    "#         df = dataflow.RepeatedData(df, -1)\n",
    "#     df = dataflow.BatchData(df, batch_size=batch_size, use_list=True)\n",
    "#     df.reset_state()\n",
    "#     return df "
   ]
  },
  {
   "cell_type": "code",
   "execution_count": 9,
   "metadata": {},
   "outputs": [
    {
     "name": "stdout",
     "output_type": "stream",
     "text": [
      "205942\n",
      "dict_keys(['city', 'lane', 'lane_norm', 'scene_idx', 'agent_id', 'car_mask', 'p_in', 'v_in', 'p_out', 'v_out', 'track_id'])\n",
      "(60, 19, 2) (60, 30, 2)\n",
      "(60, 30, 1)\n",
      "00000000-0000-0000-0000-000000000062\n"
     ]
    },
    {
     "data": {
      "text/plain": [
       "<matplotlib.collections.PathCollection at 0x7f79756664d0>"
      ]
     },
     "execution_count": 9,
     "metadata": {},
     "output_type": "execute_result"
    },
    {
     "data": {
      "image/png": "[encoded data removed]",
      "text/plain": [
       "<Figure size 432x288 with 1 Axes>"
      ]
     },
     "metadata": {
      "needs_background": "light"
     },
     "output_type": "display_data"
    }
   ],
   "source": [
    "import matplotlib.pyplot as plt\n",
    "print(len(val_dataset))\n",
    "\n",
    "scene = val_dataset[0]\n",
    "print(val_dataset[0].keys())\n",
    "\n",
    "pos_in = scene[\"p_in\"]\n",
    "pos_out = scene[\"p_out\"]\n",
    "print(pos_in.shape, pos_out.shape)\n",
    "track_id = scene[\"track_id\"]\n",
    "print(track_id.shape)\n",
    "car_id  = 2\n",
    "agent_id = scene[\"agent_id\"]\n",
    "print(agent_id)\n",
    "plt.scatter(pos_in[car_id,:,0], pos_in[car_id,:,1])\n",
    "plt.scatter(pos_out[car_id,:,0], pos_out[car_id,:,1])"
   ]
  },
  {
   "cell_type": "code",
   "execution_count": 11,
   "metadata": {},
   "outputs": [
    {
     "ename": "SyntaxError",
     "evalue": "invalid syntax (<ipython-input-11-870b54853ad7>, line 5)",
     "output_type": "error",
     "traceback": [
      "\u001b[0;36m  File \u001b[0;32m\"<ipython-input-11-870b54853ad7>\"\u001b[0;36m, line \u001b[0;32m5\u001b[0m\n\u001b[0;31m    target = [scene['p_out'], scene['v_out'] for scene in batch]\u001b[0m\n\u001b[0m                                               ^\u001b[0m\n\u001b[0;31mSyntaxError\u001b[0m\u001b[0;31m:\u001b[0m invalid syntax\n"
     ]
    }
   ],
   "source": [
    "batch_sz = 4\n",
    "# collate lists of samples into batches.\n",
    "def my_collate(batch):\n",
    "    data = [scene['p_in'], scene['v_in'] for scene in batch]\n",
    "    target = [scene['p_out'], scene['v_out'] for scene in batch]\n",
    "    target = torch.LongTensor(target)\n",
    "    return [data, target]\n",
    "\n",
    "val_loader = DataLoader(val_dataset,batch_size=batch_sz, shuffle = True, collate_fn=my_collate, num_workers=0)\n",
    "for i, batch in enumerate(val_loader):\n",
    "    print(i)\n",
    "    DataLoader[i]\n",
    "    break\n",
    "#     if not isinstance(val_dataset[i], dict):\n",
    "#         print(i, len(val_dataset[i].keys()))"
   ]
  },
  {
   "cell_type": "markdown",
   "metadata": {},
   "source": [
    "### Reformat the Argoverse data"
   ]
  },
  {
   "cell_type": "code",
   "execution_count": null,
   "metadata": {},
   "outputs": [],
   "source": [
    "import numpy \n",
    "pkl_list = glob(os.path.join(data_path, '*'))\n",
    "\n",
    "\n",
    "def concate(key_header):\n",
    "    out_seq = []\n",
    "    for key in range(31):\n",
    "        out_seq.append(data[key_header+str(key)])\n",
    "    out = numpy.dstack(out_seq)\n",
    "    pos = out.swapaxes(1,2)\n",
    "    return pos\n",
    "    \n",
    "for pkl_path in pkl_list:\n",
    "    with open(pkl_path, 'rb') as f:\n",
    "        data = pickle.load(f)\n",
    "    data = {k:v[0] for k, v in data.items()}\n",
    "    new_data = {key:data[key] for key in ['city', 'lane', 'lane_norm', 'scene_idx', 'agent_id', 'car_mask', 'pos_2s', 'vel_2s']}\n",
    "#     print((data.keys()))\n",
    "#     print(new_data.keys())\n",
    "    pos = concate(\"pos\")\n",
    "    vel = concate(\"vel\")\n",
    "    track_id = concate(\"track_id\")\n",
    "    track_id = track_id.swapaxes(0,2)\n",
    "#     print(pos.shape)\n",
    "#     print(vel.shape)\n",
    "#     print(track_id.shape)\n",
    "    new_data[\"pos\"] = pos\n",
    "    new_data[\"vel\"] = vel\n",
    "    new_data[\"track_id\"] = track_id\n",
    "#     print(new_data.keys())\n",
    "    path, file = os.path.split(pkl_path)\n",
    "   \n",
    "    if not os.path.isdir(new_path):\n",
    "        os.mkdir(new_path)\n",
    "    with open(new_path+file, 'wb') as handle:\n",
    "        pickle.dump(new_data, handle, protocol=pickle.HIGHEST_PROTOCOL)"
   ]
  },
  {
   "cell_type": "code",
   "execution_count": null,
   "metadata": {},
   "outputs": [],
   "source": [
    "for i_batch, sample_batched in enumerate(val_loader):\n",
    "    print(i_batch, type(sample_batched))"
   ]
  },
  {
   "cell_type": "code",
   "execution_count": null,
   "metadata": {},
   "outputs": [],
   "source": [
    "from tensorpack import dataflow\n",
    "from glob import glob\n",
    "import pickle\n",
    "import os\n",
    "\n",
    "file_name=\"12.pkl\"\n",
    "with open(path_name+file_name, 'rb') as f:\n",
    "    data = pickle.load(f)\n",
    "    print(data.keys())\n",
    "    print(type(data))\n",
    "#     data = {k:v[0] for k, v in data.items()}\n",
    "#     print(type(data))\n",
    "#     print((data.keys()))\n",
    "  "
   ]
  },
  {
   "cell_type": "code",
   "execution_count": null,
   "metadata": {},
   "outputs": [],
   "source": [
    "print((data['pos_2s']).shape)"
   ]
  },
  {
   "cell_type": "code",
   "execution_count": null,
   "metadata": {},
   "outputs": [],
   "source": [
    "print((data['track_id14']).shape)"
   ]
  }
 ],
 "metadata": {
  "kernelspec": {
   "display_name": "Python 3",
   "language": "python",
   "name": "python3"
  },
  "language_info": {
   "codemirror_mode": {
    "name": "ipython",
    "version": 3
   },
   "file_extension": ".py",
   "mimetype": "text/x-python",
   "name": "python",
   "nbconvert_exporter": "python",
   "pygments_lexer": "ipython3",
   "version": "3.7.6"
  }
 },
 "nbformat": 4,
 "nbformat_minor": 4
}
